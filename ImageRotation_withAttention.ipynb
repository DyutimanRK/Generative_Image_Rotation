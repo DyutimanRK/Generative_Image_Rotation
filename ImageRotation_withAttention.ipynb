{
 "cells": [
  {
   "cell_type": "markdown",
   "metadata": {
    "id": "lLvhBZS8hm2V"
   },
   "source": [
    "# Generative Network to rotate and obtain face-on PPD images\n",
    "## SOURCE CODE\n",
    "### With Attention"
   ]
  },
  {
   "cell_type": "markdown",
   "metadata": {},
   "source": [
    "    This notebook is dedicated to training a Conditional Generative Adversarial Network (cGAN) incorporating the Pix2Pix concept, enhanced with attention mechanisms, on a dataset of Protoplanetary Disk images obtained from the FARGO3D simulations. The primary goal of this project is to generate face-on images of Protoplanetary Disks from images that are rotated in random orientations.\n",
    "    \n",
    "    Summary       : The aim of this notebook is to leverage the power of cGANs, particularly the Pix2Pix \n",
    "                    architecture, augmented with attention mechanisms, to transform images of Protoplanetary \n",
    "                    Disks with random orientations into standardized face-on images. The inclusion of attention \n",
    "                    mechanisms helps the network focus on important features, improving the quality of the \n",
    "                    generated images. This transformation is crucial for various astronomical studies and \n",
    "                    simulations where consistent orientation of disk images is required for accurate analysis.\n",
    "\n",
    "\n",
    "    Code&Config   : The code is being done on Jupyter Notebook platform, and is being run on MacOS 13.1, \n",
    "                    Apple M1, 8gb configuration.  \n",
    "               \n",
    "         \n",
    "________________"
   ]
  },
  {
   "cell_type": "markdown",
   "metadata": {},
   "source": [
    "### Supervisor   : Dr. Sayantan Auddy\n",
    "#### Written by    : Dyutiman Santra\n",
    "#### Created       : 29th June, 2024\n",
    "\n",
    "_______________________________________"
   ]
  },
  {
   "cell_type": "markdown",
   "metadata": {},
   "source": [
    "||  Importing Modules  ||"
   ]
  },
  {
   "cell_type": "code",
   "execution_count": 1,
   "metadata": {
    "id": "fUE7t0Oyhngi"
   },
   "outputs": [],
   "source": [
    "import os\n",
    "import cv2\n",
    "import numpy as np\n",
    "import pandas as pd\n",
    "import matplotlib.pyplot as plt\n",
    "import tensorflow as tf\n",
    "import glob \n",
    "\n",
    "from math import ceil\n",
    "\n",
    "#*****************\n",
    "\n",
    "from sklearn.model_selection import train_test_split\n",
    "\n",
    "#*****************\n",
    "\n",
    "from numpy import asarray\n",
    "from numpy import expand_dims\n",
    "from numpy import ones\n",
    "from numpy import zeros\n",
    "from numpy.random import randint\n",
    "\n",
    "#*****************\n",
    "\n",
    "import time\n",
    "import sys\n",
    "\n",
    "from datetime import datetime as dt\n",
    "from IPython import display\n",
    "\n",
    "#*****************\n"
   ]
  },
  {
   "cell_type": "markdown",
   "metadata": {},
   "source": [
    "||  Checking the availbale number of GPUs  ||"
   ]
  },
  {
   "cell_type": "code",
   "execution_count": 2,
   "metadata": {
    "scrolled": false
   },
   "outputs": [
    {
     "name": "stdout",
     "output_type": "stream",
     "text": [
      "Num GPUs Available:  1\n",
      "Name: /physical_device:GPU:0 Type: GPU\n",
      "TensorFlow version used  2.10.0\n"
     ]
    }
   ],
   "source": [
    "print(\"Num GPUs Available: \", len(tf.config.list_physical_devices('GPU')))\n",
    "gpus = tf.config.experimental.list_physical_devices('GPU')\n",
    "for gpu in gpus:\n",
    "    print(\"Name:\",gpu.name,\"Type:\",gpu.device_type)\n",
    "print(\"TensorFlow version used \",tf.__version__)"
   ]
  },
  {
   "cell_type": "markdown",
   "metadata": {},
   "source": [
    "_______"
   ]
  },
  {
   "cell_type": "markdown",
   "metadata": {},
   "source": [
    "\n",
    "# Specifications"
   ]
  },
  {
   "cell_type": "code",
   "execution_count": 28,
   "metadata": {},
   "outputs": [],
   "source": [
    "# To specify our requirements\n",
    "\n",
    "no_o_folders = 700        #to set the number of folders (total 700)\n",
    "pxl = 64                #to set the desired pixel value\n",
    "channel = 1             #to set channel, 1 for grayscale and 3 for coloured\n",
    "save_interval = 5      #choosing the epoch interval to save model\n",
    "\n",
    "import ImageRotation_NetworkScript as NN\n",
    "\n",
    "csv_directory = '/Users/Dyutiman/Documents/ML_Project/Pix2Pix/RT_Dataset_incl_posang.csv'\n",
    "image_directory = '/Users/Dyutiman/Documents/ML_Project/Sayantan Da Projects/Final 1.5l'\n",
    "sound_file_directory = '/Users/Dyutiman/Downloads/terminating alarm.mp3'"
   ]
  },
  {
   "cell_type": "markdown",
   "metadata": {},
   "source": [
    "___________"
   ]
  },
  {
   "cell_type": "markdown",
   "metadata": {},
   "source": [
    "||  Reading DATA csv ||"
   ]
  },
  {
   "cell_type": "code",
   "execution_count": 29,
   "metadata": {},
   "outputs": [
    {
     "name": "stdout",
     "output_type": "stream",
     "text": [
      "The dataframe is loaded.\n"
     ]
    }
   ],
   "source": [
    "df = pd.read_csv(csv_directory)  \n",
    "\n",
    "# print(df,\"\\n\")              #displaying csv\n",
    "\n",
    "Ind, X_inlabel, Y_inlabel = [], [], []\n",
    "\n",
    "Ind = df[\"index\"]           #to store the image numbers excluding translational changes\n",
    "X_label = df[\"incl\"]        #to store the inclination angle\n",
    "Y_label = df[\"posang\"]      #to store the position angle\n",
    "\n",
    "print(\"The dataframe is loaded.\")"
   ]
  },
  {
   "cell_type": "markdown",
   "metadata": {},
   "source": [
    "||  Reading and loading DATA images ||"
   ]
  },
  {
   "cell_type": "code",
   "execution_count": 30,
   "metadata": {},
   "outputs": [
    {
     "name": "stdout",
     "output_type": "stream",
     "text": [
      "Total count of images = 21000. ----> 100.00 %\n",
      "21000 image diretories are loaded.\n"
     ]
    }
   ],
   "source": [
    "## Reading the Image Dataset, from specified folders\n",
    "\n",
    "X = [] \t\t\t\t\t\t\t\t\t\t\t\t\t\t\t# a List to store oriented images\n",
    "Y = [] \t\t\t\t\t\t\t\t\t\t\t\t\t\t\t# a List to store face-on image\n",
    "\n",
    "k=0\n",
    "m=0\n",
    "\n",
    "print(f\"Total number of folders to be loaded is {no_o_folders}.\\n\")\n",
    "\n",
    "for i in range(1, no_o_folders+1):\n",
    "\n",
    "    directory = image_directory +\"/RT_A_\"+ str(i)+\"/*.png\"\n",
    "    data_set_indiv = glob.glob(directory)\n",
    "\n",
    "    loc = image_directory +\"/RT_A_\"+ str(i)\n",
    "    \n",
    "    for j in Ind: #Loading the oriented images in X and correspondsing face-on images in Y\n",
    "        X.append(loc+\"/image_\"+str(j)+\".png\")\n",
    "        Y.append(loc+\"/image_1.png\")\n",
    "        m = m+1\n",
    "    \n",
    "    k = k+1\n",
    "    display.clear_output(wait=True)\n",
    "    print(\"Total count of images = %d. ----> %2.2f %s\"%(m,(k/no_o_folders)*100,'%'))\n",
    "\n",
    "print(len(X), \"image diretories are loaded.\")"
   ]
  },
  {
   "cell_type": "markdown",
   "metadata": {},
   "source": [
    "____"
   ]
  },
  {
   "cell_type": "code",
   "execution_count": 31,
   "metadata": {},
   "outputs": [],
   "source": [
    "# To display all the loaded images \n",
    "if (False):\n",
    "    fig, axes = plt.subplots(ncols=1, sharex=False,sharey=True, figsize=(15, 5))\n",
    "\n",
    "    k=0\n",
    "    for i in X:\n",
    "        try:\n",
    "            axes.set_title(\"Run:{}\".format(k))\n",
    "            plt.imshow(cv2.cvtColor(cv2.imread(i),cv2.COLOR_BGR2RGB))\n",
    "            k=k+1\n",
    "            display.display(plt.gcf())\n",
    "            display.clear_output(wait=True)\n",
    "            time.sleep(0.001)\n",
    "            if(k%2 == 0):\n",
    "                fig, axes = plt.subplots(ncols=1, sharex=False,sharey=True, figsize=(15, 5))\n",
    "        except KeyboardInterrupt:\n",
    "            break\n"
   ]
  },
  {
   "cell_type": "code",
   "execution_count": 32,
   "metadata": {},
   "outputs": [
    {
     "data": {
      "text/plain": [
       "5473"
      ]
     },
     "execution_count": 32,
     "metadata": {},
     "output_type": "execute_result"
    }
   ],
   "source": [
    "# deallocating the unreferenced objects and freeing up memory (OPTIONAL)\n",
    "import gc\n",
    "gc.collect()"
   ]
  },
  {
   "cell_type": "code",
   "execution_count": 33,
   "metadata": {},
   "outputs": [
    {
     "name": "stdout",
     "output_type": "stream",
     "text": [
      "Train: 18900 \n",
      "Test: 2100 \n",
      "TrainLabel: 18900 \n",
      "TestLabel: 2100\n"
     ]
    }
   ],
   "source": [
    "# Splitting the dataset\n",
    "trainX, testX, trainy, testy = train_test_split(X, Y, random_state=42, test_size=0.10, shuffle=True)\n",
    "\n",
    "# summarize the shape of the dataset\n",
    "print('Train:', len(trainX), '\\nTest:', len(testX), '\\nTrainLabel:', len(trainy), '\\nTestLabel:', len(testy))"
   ]
  },
  {
   "cell_type": "markdown",
   "metadata": {},
   "source": [
    "_________________________________"
   ]
  },
  {
   "cell_type": "markdown",
   "metadata": {},
   "source": [
    "# Preparing Training Block"
   ]
  },
  {
   "cell_type": "code",
   "execution_count": 34,
   "metadata": {},
   "outputs": [],
   "source": [
    "# selecting a batch of random samples, returns images and target\n",
    "def generate_real_samples(dataset, n_samples, patch_shape):\n",
    "    # unpack dataset\n",
    "    trainA, trainB = dataset\n",
    "    # choose random instances\n",
    "    ix = randint(0, trainA.shape[0], n_samples)\n",
    "    # retrieve selected images\n",
    "    X1, X2 = trainA[ix], trainB[ix//(len(Ind)-1)]\n",
    "    # generate 'real' class labels (1)\n",
    "    y = ones((n_samples, patch_shape, patch_shape, 1))\n",
    "    return [X1, X2], y"
   ]
  },
  {
   "cell_type": "code",
   "execution_count": 35,
   "metadata": {},
   "outputs": [],
   "source": [
    "# generate a batch of images, returns images and targets\n",
    "def generate_fake_samples(g_model, samples, patch_shape):\n",
    "    # generate fake instance\n",
    "    X = g_model.predict(samples)\n",
    "    # create 'fake' class labels (0)\n",
    "    y = zeros((len(X), patch_shape, patch_shape, 1))\n",
    "    return X, y"
   ]
  },
  {
   "cell_type": "markdown",
   "metadata": {},
   "source": [
    "_________________________________"
   ]
  },
  {
   "cell_type": "code",
   "execution_count": 36,
   "metadata": {},
   "outputs": [],
   "source": [
    "# loading a batch of images\n",
    "def dataset_batch(lower, upper):\n",
    "    TX = []\n",
    "    TY = []\n",
    "    p = upper\n",
    "\n",
    "    for i in range(lower, upper):\n",
    "        if(i==len(trainX)):\n",
    "            p = i\n",
    "            break\n",
    "        image_dir = trainX[i]\n",
    "        emag = cv2.imread(image_dir, channel//3)\n",
    "        if(channel==1): emag = np.expand_dims(emag, axis=-1)\n",
    "        TX.append(emag[57:428, 107:478])\n",
    "        emag = cv2.flip(emag[57:428, 107:478],1)\n",
    "        if(channel==1): emag = np.expand_dims(emag, axis=-1)\n",
    "        TX.append(emag)\n",
    "        \n",
    "        trg_dir = trainy[i]\n",
    "        emag = cv2.imread(trg_dir, channel//3)\n",
    "        if(channel==1): emag = np.expand_dims(emag, axis=-1)\n",
    "        TY.append(emag[57:428, 107:478])\n",
    "        emag = cv2.flip(emag[57:428, 107:478],1)\n",
    "        if(channel==1): emag = np.expand_dims(emag, axis=-1)\n",
    "        TY.append(emag)\n",
    "        \n",
    "    print(\"Loading batch [%d --> %d] (%d)\" % (lower,p,p-lower))\n",
    "    \n",
    "    tx = tf.image.resize(np.asarray(TX), [pxl, pxl])\n",
    "    ty = tf.image.resize(np.asarray(TY), [pxl, pxl])\n",
    "\n",
    "    T_X = tx.numpy()\n",
    "    T_Y = ty.numpy()\n",
    "    \n",
    "    # scale from [0,255] to [-1,1]\n",
    "    T_X = (T_X - 127.5) / 127.5\n",
    "    T_Y = (T_Y - 127.5) / 127.5\n",
    "\n",
    "    return [T_X,T_Y]"
   ]
  },
  {
   "cell_type": "code",
   "execution_count": 37,
   "metadata": {},
   "outputs": [],
   "source": [
    "# Generating samples and saving plot and the model \n",
    "def summarize_performance(epch, g_model, dataset, direct, n_samples=3):\n",
    "    # select a sample of input images\n",
    "    [X_realA, X_realB] = dataset\n",
    "    \n",
    "    # generate a batch of fake samples\n",
    "    X_fakeB, _ = generate_fake_samples(g_model, X_realA, 1)\n",
    "    \n",
    "    # scale all pixels from [-1,1] to [0,1]\n",
    "    X_fakeB = (X_fakeB + 1) / 2.0\n",
    "    \n",
    "    # plot real source images\n",
    "    for i in range(n_samples):\n",
    "        plt.subplot(3, n_samples, 1 + i)\n",
    "        plt.axis('off')\n",
    "        plt.imshow(X_realA[i]*255)\n",
    "    # plot generated target image\n",
    "    for i in range(n_samples):\n",
    "        plt.subplot(3, n_samples, 1 + n_samples + i)\n",
    "        plt.axis('off')\n",
    "        plt.imshow(X_fakeB[i]*255)\n",
    "    # plot real target image\n",
    "    for i in range(n_samples):\n",
    "        plt.subplot(3, n_samples, 1 + n_samples*2 + i)\n",
    "        plt.axis('off')\n",
    "        plt.imshow(X_realB[i]*255)\n",
    "    \n",
    "    # save plot to file\n",
    "    formatted_date = (dt.now()).strftime(\"%Y-%m-%d %H:%M:%S\")\n",
    "    FD = formatted_date[2:10]+\"_\"+formatted_date[11:13]+\"_\"+formatted_date[14:16]\n",
    "        \n",
    "    filename1 = 'ATTN_plot_%02d_%s.png' % ((epch), FD)\n",
    "    plt.savefig(f\"{direct}/{filename1}\")\n",
    "    plt.close()\n",
    "    # save the generator model\n",
    "    filename2 = 'ATTN_modelWeight_%02d_%s.h5' % ((epch), FD)\n",
    "    g_model.save_weights(f\"{direct}/{filename2}\") \n",
    "    print('>Saved: %s and %s' % (filename1, filename2))\n"
   ]
  },
  {
   "cell_type": "code",
   "execution_count": 38,
   "metadata": {},
   "outputs": [],
   "source": [
    "# train pix2pix models\n",
    "def train(d_model, g_model, gan_model, dataset, n_epochs, n_batch):\n",
    "    \n",
    "    start_time = time.time()\n",
    "    last_time = start_time\n",
    "    space = \" \"\n",
    "    lowest_rec = 100\n",
    "    highest_rec = 0\n",
    "    \n",
    "    # determine the output square shape of the discriminator\n",
    "    n_patch = d_model.output_shape[1]\n",
    "    \n",
    "    # calculate the number of batches per training epoch\n",
    "    bat_per_epo = ceil(len(trainX) / n_batch)\n",
    "    \n",
    "    # calculate the number of training iterations\n",
    "    n_steps = bat_per_epo * n_epochs\n",
    "    \n",
    "    direct = \"\"      # to set up directory\n",
    "    boolean = True   # flag variable to make sure that the directory is set only once\n",
    "    \n",
    "    counting_batch_per_epoch = 1\n",
    "    dataset_index = 0\n",
    "    \n",
    "    # manually enumerate epochs\n",
    "    for i in range(n_steps):\n",
    "        \n",
    "        #_____________________________________________________________________________Training Summary\n",
    "        print(f\"{space*65}______________________________________\\n\")\n",
    "        print(f\"{space*65}Epoch                    : {i//bat_per_epo +1} / {n_epochs}\")\n",
    "        print(f\"{space*65}Steps per epoch          : {counting_batch_per_epoch} / {bat_per_epo}\")\n",
    "        #_____________________________________________________________________________Training Summary\n",
    "        \n",
    "        #taking batch\n",
    "        dataset = dataset_batch(dataset_index, dataset_index+n_batch)\n",
    "        dataset_index = dataset_index+n_batch\n",
    "        \n",
    "        print(\"Total loaded images\", len(dataset[0]))\n",
    "        \n",
    "        \n",
    "        if(counting_batch_per_epoch==bat_per_epo):\n",
    "            dataset_index = 0\n",
    "            counting_batch_per_epoch = 0\n",
    "            \n",
    "        \n",
    "        # selecting a batch of real samples\n",
    "        [X_realA, X_realB], y_real = dataset, ones((len(dataset[0]), n_patch, n_patch, 1)) #generate_real_samples(dataset, n_patch)\n",
    "        # generate a batch of fake samples\n",
    "        X_fakeB, y_fake = generate_fake_samples(g_model, X_realA, n_patch)\n",
    "        \n",
    "\n",
    "        # updating discriminator for real samples\n",
    "        d_loss1 = d_model.train_on_batch([X_realA, X_realB], y_real)\n",
    "        # update discriminator for generated samples\n",
    "        d_loss2 = d_model.train_on_batch([X_realA, X_fakeB], y_fake)\n",
    "        # update the generator\n",
    "        g_loss, _, _ = gan_model.train_on_batch(X_realA, [y_real, X_realB])\n",
    "        \n",
    "        # summarizing performance\n",
    "        display.clear_output(wait=True) # ensures a single line print instead of multiple lines (OPTIONAL)\n",
    "        print(('>%d, d1[%.3f] d2[%.3f] g[%.3f] --->%2.2f %s ' % (i+1, d_loss1, d_loss2, g_loss, (i+1)/n_steps*100, '%')))\n",
    "        \n",
    "        \n",
    "        #_____________________________________________________________________________Training Summary\n",
    "        current_time = time.time()\n",
    "        current_time_elapsed = current_time - start_time\n",
    "        time_left = (current_time - last_time)*(n_steps-i-1)\n",
    "        print(f\"{space*65}Time Elaspsed{space*12}: {int(current_time_elapsed//3600)}h {int((current_time_elapsed%3600)//60)}m {int(current_time_elapsed%60)}s\\n{space*65}Approximate Time Left{space*4}: {int(time_left//3600)}h {int((time_left%3600)//60)}m {int(time_left%60)}s\")\n",
    "        \n",
    "        \n",
    "        if((current_time - last_time)>highest_rec): highest_rec = current_time - last_time\n",
    "        if((current_time - last_time)<lowest_rec): lowest_rec = current_time - last_time\n",
    "        \n",
    "        print(f\"{space*65}______________________________________\\n\")\n",
    "        print(f\"{space*65}\\033[1mTIME PER STEP\\033[0m\")\n",
    "        print(f\"%sLowest recorded          : %.2fs\"%(space*65,lowest_rec))\n",
    "        print(f\"%sCurrent time          ---> \\033[1m%.2fs\\033[0m\"%(space*65,current_time - last_time))\n",
    "        print(f\"%sHighest recorded         : %.2fs\"%(space*65,highest_rec))\n",
    "        \n",
    "        \n",
    "        last_time = current_time\n",
    "        #_____________________________________________________________________________Training Summary\n",
    "        \n",
    "        \n",
    "        # summarizing model performance\n",
    "        if (i+1) % (bat_per_epo * save_interval) == 0: # saving model and plot at every 5th epoch\n",
    "            print('Summarizing and Saving')\n",
    "            if(boolean):\n",
    "                print(\"Setting up directory...\")\n",
    "                formatted_date = (dt.now()).strftime(\"%Y-%m-%d %H:%M:%S\")\n",
    "                FD = \"ATTN_ModelWeight_\"+formatted_date[2:10]+\"_\"+formatted_date[11:13]+\"_\"+formatted_date[14:16]\n",
    "                direct = \"/Users/Dyutiman/Documents/ML_Project/Pix2Pix/%s\"%(FD)\n",
    "                os.mkdir(direct) #creating directory\n",
    "                boolean = False\n",
    "            summarize_performance(i//bat_per_epo +1, g_model, dataset, direct)\n",
    "            gc.collect() #freeing up memory (OPTIONAL)\n",
    "            \n",
    "        counting_batch_per_epoch=counting_batch_per_epoch+1\n",
    "            \n",
    "            \n",
    "            \n",
    "#_____________ALERT_________________# auditory indication of the end of execution (OPTIONAL)\n",
    "    from IPython.display import Audio\n",
    "    sound_file = \"/Users/Dyutiman/Downloads/terminating alarm.mp3\"\n",
    "    Audio(sound_file, autoplay=True)\n",
    "    "
   ]
  },
  {
   "cell_type": "code",
   "execution_count": 39,
   "metadata": {
    "scrolled": false
   },
   "outputs": [
    {
     "name": "stdout",
     "output_type": "stream",
     "text": [
      "Shape is (64, 64, 1)\n",
      "Working so far : d\n"
     ]
    },
    {
     "name": "stderr",
     "output_type": "stream",
     "text": [
      "/opt/miniconda3/envs/tensorflow2/lib/python3.9/site-packages/keras/initializers/initializers_v2.py:120: UserWarning: The initializer RandomNormal is unseeded and being called multiple times, which will return identical values  each time (even if the initializer is unseeded). Please update your code to provide a seed to the initializer, or avoid using the same initalizer instance more than once.\n",
      "  warnings.warn(\n",
      "/opt/miniconda3/envs/tensorflow2/lib/python3.9/site-packages/keras/optimizers/optimizer_v2/adam.py:114: UserWarning: The `lr` argument is deprecated, use `learning_rate` instead.\n",
      "  super().__init__(name, **kwargs)\n"
     ]
    },
    {
     "name": "stdout",
     "output_type": "stream",
     "text": [
      "Working so far : g\n"
     ]
    }
   ],
   "source": [
    "# defining input shape based on the loaded dataset\n",
    "image_shape = (pxl,pxl,channel)\n",
    "print(\"Shape is\",image_shape)\n",
    "\n",
    "# define the models\n",
    "print(\"Working so far : d\")\n",
    "d_model = NN.define_discriminator(image_shape)\n",
    "\n",
    "print(\"Working so far : g\")\n",
    "g_model = NN.define_generator_with_attention(image_shape)\n",
    "\n",
    "# define the composite model\n",
    "gan_model = NN.define_gan(g_model, d_model, image_shape)"
   ]
  },
  {
   "cell_type": "markdown",
   "metadata": {},
   "source": [
    "### Training Block preparation complete."
   ]
  },
  {
   "cell_type": "markdown",
   "metadata": {},
   "source": [
    "__________________________________________________________________"
   ]
  },
  {
   "cell_type": "markdown",
   "metadata": {},
   "source": [
    "# TRAINING !"
   ]
  },
  {
   "cell_type": "code",
   "execution_count": 40,
   "metadata": {
    "scrolled": true
   },
   "outputs": [
    {
     "name": "stdout",
     "output_type": "stream",
     "text": [
      ">13500, d1[0.345] d2[0.356] g[1.149] --->100.00 % \n",
      "                                                                 Time Elaspsed            : 6h 44m 36s\n",
      "                                                                 Approximate Time Left    : 0h 0m 0s\n",
      "                                                                 ______________________________________\n",
      "\n",
      "                                                                 \u001b[1mTIME PER STEP\u001b[0m\n",
      "                                                                 Lowest recorded          : 1.75s\n",
      "                                                                 Current time          ---> \u001b[1m1.90s\u001b[0m\n",
      "                                                                 Highest recorded         : 9.42s\n",
      "Summarizing and Saving\n",
      "1/1 [==============================] - 0s 30ms/step\n",
      ">Saved: ATTN_plot_10_24-07-10_04_34.png and ATTN_modelWeight_10_24-07-10_04_34.h5\n"
     ]
    },
    {
     "data": {
      "text/html": [
       "\n",
       "                <audio  controls=\"controls\" autoplay=\"autoplay\">\n",
       "                    <source src=\"data:audio/mpeg;base64,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\" type=\"audio/mpeg\" />\n",
       "                    Your browser does not support the audio element.\n",
       "                </audio>\n",
       "              "
      ],
      "text/plain": [
       "<IPython.lib.display.Audio object>"
      ]
     },
     "execution_count": 40,
     "metadata": {},
     "output_type": "execute_result"
    }
   ],
   "source": [
    "dataset = [trainX, trainy]\n",
    "\n",
    "# n_batch is the number images to be loaded everytime (the number is doubled as mirror-images are also generated)\n",
    "\n",
    "train(d_model, g_model, gan_model, dataset, n_epochs=10, n_batch=14)\n",
    "\n",
    "\n",
    "#_____________ALERT_________________# auditory indication of the end of execution (OPTIONAL)\n",
    "from IPython.display import Audio\n",
    "sound_file = sound_file_directory\n",
    "Audio(sound_file, autoplay=True)\n"
   ]
  },
  {
   "cell_type": "markdown",
   "metadata": {},
   "source": [
    "___"
   ]
  },
  {
   "cell_type": "markdown",
   "metadata": {},
   "source": [
    "End of code!"
   ]
  }
 ],
 "metadata": {
  "colab": {
   "provenance": []
  },
  "kernelspec": {
   "display_name": "Python 3.9 (tensorflow) NEW",
   "language": "python",
   "name": "tensorflow2"
  },
  "language_info": {
   "codemirror_mode": {
    "name": "ipython",
    "version": 3
   },
   "file_extension": ".py",
   "mimetype": "text/x-python",
   "name": "python",
   "nbconvert_exporter": "python",
   "pygments_lexer": "ipython3",
   "version": "3.9.15"
  }
 },
 "nbformat": 4,
 "nbformat_minor": 1
}
